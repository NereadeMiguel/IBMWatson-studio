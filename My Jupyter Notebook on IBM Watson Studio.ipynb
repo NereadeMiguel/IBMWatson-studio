{
    "cells": [
        {
            "cell_type": "markdown",
            "metadata": {
                "collapsed": true
            },
            "source": "<h1>My Jupyter Notebook on IBM Watson Studio</h1>"
        },
        {
            "cell_type": "markdown",
            "metadata": {},
            "source": "**Nerea**\n\nData tester"
        },
        {
            "cell_type": "markdown",
            "metadata": {},
            "source": "*I am interested in data science because I want to learn more about predicitons, AI and machine learning models*"
        },
        {
            "cell_type": "markdown",
            "metadata": {},
            "source": "<h3>The next code is printing today's date </h3>"
        },
        {
            "cell_type": "code",
            "execution_count": 1,
            "metadata": {},
            "outputs": [
                {
                    "name": "stdout",
                    "output_type": "stream",
                    "text": "Today's date: 2022-07-05\n"
                }
            ],
            "source": "from datetime import date\n\ntoday = date.today()\nprint(\"Today's date:\", today)"
        },
        {
            "cell_type": "markdown",
            "metadata": {},
            "source": "Bullet List example:\n- list item 1\n- list item 2\n- list item 3\n\n<a align=\"left\" href=\"https://www.google.es\">hyperlink example</a>\n\nTable example:\n<table align=\"left\">\n    <tr>\n        <th>Name</th>\n        <th>Age</th>\n        <th>Job</th>\n    </tr>\n    <tr>\n        <td>Nerea</td>\n        <td>31</td>\n        <td>Tester</td>\n    </tr>\n    <tr>\n        <td>David</td>\n        <td>40</td>\n        <td>Tester</td>\n    </tr>\n</table>\n\n\n"
        }
    ],
    "metadata": {
        "kernelspec": {
            "display_name": "Python 3.9",
            "language": "python",
            "name": "python3"
        },
        "language_info": {
            "codemirror_mode": {
                "name": "ipython",
                "version": 3
            },
            "file_extension": ".py",
            "mimetype": "text/x-python",
            "name": "python",
            "nbconvert_exporter": "python",
            "pygments_lexer": "ipython3",
            "version": "3.9.12"
        }
    },
    "nbformat": 4,
    "nbformat_minor": 1
}